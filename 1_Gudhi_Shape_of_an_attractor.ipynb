{
 "cells": [
  {
   "cell_type": "markdown",
   "id": "6e25a3b6",
   "metadata": {},
   "source": [
    "## Shape of an attractor\n",
    "\n",
    "The [*Simplest Dissipative Chaotic Flow*](https://sprott.physics.wisc.edu/pubs/paper227.pdf) is a chaotic system, defined by a 3rd order differential equation\n",
    "\\begin{equation}\n",
    "\\dddot{x} = - a\\ddot{z} - \\dot{z} + b - e^z, \\qquad \\text{for } a=2.017,\\, b=1.\n",
    "\\end{equation}\n",
    "\n",
    "Its attractor resembles a Mobius strip.\n",
    "\n",
    "![RotatingAttractor](https://sprott.physics.wisc.edu/fractals/animated/SIMJERKX.GIF)\n",
    "\n",
    "\n",
    "In this tutorial, we will focus on recovering the homology of that attractor from a discrete sample path. Persistent homology of standard filtration, like the Cech or Vietoris-Rips, are stable in the Hausdorff distance, what yields guarantees for dense-enough i.i.d samples.\n",
    "\n",
    "In the article that *the attractor has some sheer*, what manifests itself as multiple, discernable trajectories near the lobe of the attractor. It results in regions, where the point-cloud is sparser.\n",
    "\n",
    "**Question**: Can we modify the construction and filtration of a simplicial complex, so that we see the homology of a strip?"
   ]
  },
  {
   "cell_type": "markdown",
   "id": "3db8cf87",
   "metadata": {},
   "source": [
    "## 1.1 Data\n",
    "\n",
    "We simulate the dynamic using the `teaspoon.MakeData` module from `teaspoon`."
   ]
  },
  {
   "cell_type": "code",
   "execution_count": null,
   "id": "ebe7078b",
   "metadata": {},
   "outputs": [],
   "source": [
    "import teaspoon.MakeData.DynSysLib.DynSysLib as DSL\n",
    "\n",
    "t, ts = DSL.DynamicSystems('simplest_quadratic_chaotic_flow', 'chaotic')\n",
    "print(f\"Total time: {t[-1]-t[0]:.3f}\\nN points: {t.shape[0]}\\nSampling rate: {(t.shape[0]-1)/(t[-1]-t[0]):.3f}\")"
   ]
  },
  {
   "cell_type": "code",
   "execution_count": null,
   "id": "9310baba",
   "metadata": {},
   "outputs": [],
   "source": [
    "import plotly.graph_objects as go\n",
    "from plotly.subplots import make_subplots\n",
    "\n",
    "fig = make_subplots(rows=1, cols=2, subplot_titles=(\"\", \"\"), specs=[[{\"type\": \"xy\"}, {\"type\": \"scene\"}]])\n",
    "\n",
    "fig.add_trace(\n",
    "    go.Scatter(x=t, y=ts[0], mode=\"lines\", name=\"\"),\n",
    "    row=1, col=1,\n",
    ")\n",
    "\n",
    "fig.add_trace(\n",
    "    go.Scatter3d(x=ts[0], y=ts[1], z=ts[2], mode=\"lines\", name=\"\",),\n",
    "    row=1, col=2,\n",
    ")\n",
    "\n",
    "fig.update_layout(\n",
    "    showlegend=False,\n",
    "    xaxis_title=\"$t$\",\n",
    "    yaxis_title=\"$x$\",\n",
    ")\n",
    "\n",
    "fig.show()"
   ]
  },
  {
   "cell_type": "markdown",
   "id": "694acf04",
   "metadata": {},
   "source": [
    "We see that with a short time series, the sheer is even worse. This is likely to make more 1-cycles appear."
   ]
  },
  {
   "cell_type": "markdown",
   "id": "edc1ce0f",
   "metadata": {},
   "source": [
    "## 2.2 Persistent homology from a point-cloud\n",
    "\n",
    "We would like to infer the existence of the cycle using persistent homology. We are in a low-dimensional setting (dim=3), so the [$\\alpha$-complex](https://gudhi.inria.fr/python/latest/alpha_complex_ref.html) is the most appropriate tool: it is homotopy-equivalent to the nerve of the collection of thickenings (via the [Cech complex](https://en.wikipedia.org/wiki/%C4%8Cech_complex)).\n",
    "\n",
    "*Note:* we could also use a Vietoris-Rips complex. However, it has worse approximation guarantees. In addition, since our dataset has 5000 points, the obtained complex is much larger, leading to slower calculations."
   ]
  },
  {
   "cell_type": "markdown",
   "id": "eedbeced",
   "metadata": {},
   "source": [
    "Most of the complexes in Gudhi, aside from `CubicalComplex`, rely on the `SimplexTree` datastructure. It is no different for [`AlphaComplex`](https://gudhi.inria.fr/python/latest/alpha_complex_user.html), which just provides a constructor for a particular [`SimplexTree`](https://gudhi.inria.fr/python/latest/simplex_tree_ref.html)."
   ]
  },
  {
   "cell_type": "code",
   "execution_count": null,
   "id": "1da1cfb8",
   "metadata": {},
   "outputs": [],
   "source": [
    "import numpy as np\n",
    "from gudhi import AlphaComplex\n",
    "\n",
    "X = np.stack(ts, axis=1)\n",
    "\n",
    "st = AlphaComplex(X).create_simplex_tree()\n",
    "dgm_alpha = st.persistence()"
   ]
  },
  {
   "cell_type": "code",
   "execution_count": null,
   "id": "277accbb",
   "metadata": {},
   "outputs": [],
   "source": [
    "from utils_gudhi import plot_diagram_gudhi\n",
    "plot_diagram_gudhi(dgm_alpha)"
   ]
  },
  {
   "cell_type": "markdown",
   "id": "6f81889e",
   "metadata": {},
   "source": [
    "We see a single, persistent generator in $H_1$. However, zooming-in on the points near the origin, we see several non--trivial cycles, which appear and die well after $H_0$ has stabilised.\n",
    "\n",
    "Looking at the point-cloud generated by the trajectory, we hypothesize that it is due to the sheer."
   ]
  },
  {
   "cell_type": "code",
   "execution_count": null,
   "id": "025bd7e8",
   "metadata": {},
   "outputs": [],
   "source": [
    "from utils_gudhi import plot_betti_curves_gudhi\n",
    "fig = plot_betti_curves_gudhi(dgm_alpha)\n",
    "fig.update_yaxes(range=[-0.2, 15])\n",
    "fig.update_xaxes(range=[-0.05, 2.])"
   ]
  },
  {
   "cell_type": "markdown",
   "id": "f19c7106",
   "metadata": {},
   "source": [
    "## 2.3 Distance-to-measure filtrations\n",
    "If we see the sheer as (unidirectional) noise, we can use the distance-to-measure (DTM) techniques to handle this noisy region (Boissonnat et al., 2018). The DTM filtration (Anai et al., 2020) is available in GUDHI, and also relies on the SimplexTree.\n",
    "\n",
    "Anai, H. et al. DTM-based Filtrations. arXiv:1811.04757 (2020).\\\n",
    "Boissonnat, J.-D., Chazal, F. & Yvinec, M. Geometric and Topological Inference. (Cambridge University Press, 2018)."
   ]
  },
  {
   "cell_type": "code",
   "execution_count": null,
   "id": "e8794351",
   "metadata": {},
   "outputs": [],
   "source": [
    "from gudhi.dtm_rips_complex import DTMRipsComplex\n",
    "dtm = DTMRipsComplex(points=X, k=3, q=1, max_filtration=1.5)\n",
    "#st = dtm.create_simplex_tree(2) # <- this yields a huge complex (30GB), for max_filtration=0.5, it goes down to 4GB\n",
    "#dgm_rips_dtm = st.persistence() # <- this is long to compute\n",
    "#plot_diagram_gudhi(dgm_rips_dtm)"
   ]
  },
  {
   "cell_type": "markdown",
   "id": "087340f3",
   "metadata": {},
   "source": [
    "The Vietoris-Rips complex is too big to handle and the homology is long to compute.\n",
    "\n",
    "**Can we weight the $\\alpha$-complex by the DTM?**"
   ]
  },
  {
   "cell_type": "markdown",
   "id": "1fc04dbf",
   "metadata": {},
   "source": [
    "A heuristic has been proposed in [`velour.persistence`](https://github.com/raphaeltinarrage/velour/blob/e5e9d085e8407884c7ca7bd96ebf209351c8feff/velour/persistence.py#L776).\n",
    "\n",
    "```\n",
    "def AlphaDTMFiltration(X, m, p, dimension_max =2, filtration_max = np.inf):\n",
    "    '''\n",
    "    /!\\ this is a heuristic method, that speeds-up the computation.\n",
    "    It computes the DTM-filtration seen as a subset of the Delaunay filtration.\n",
    "    \n",
    "    Input:\n",
    "        X (np.array): size Nxn, representing N points in R^n.\n",
    "        m (float): parameter of the DTM, in [0,1). \n",
    "        p (float): parameter of the DTM-filtration, in [0, +inf) or np.inf.\n",
    "        dimension_max (int, optional): maximal dimension to expand the complex.\n",
    "        filtration_max (float, optional): maximal filtration value of the filtration.\n",
    "    \n",
    "    Output:\n",
    "        st (gudhi.SimplexTree): the alpha-DTM filtration.\n",
    "    '''\n",
    "    N_tot = X.shape[0]     \n",
    "    alpha_complex = AlphaComplex(points=X)\n",
    "    st_alpha = alpha_complex.create_simplex_tree()    \n",
    "    Y = np.array([alpha_complex.get_point(i) for i in range(N_tot)])\n",
    "    distances = euclidean_distances(Y)             #computes the pairwise distances\n",
    "    DTM_values = DTM(X,Y,m)                        #/!\\ in 3D, gudhi.AlphaComplex may change the ordering of the points\n",
    "    \n",
    "    st = gudhi.SimplexTree()                       #creates an empty simplex tree\n",
    "    for simplex in st_alpha.get_skeleton(2):       #adds vertices with corresponding filtration value\n",
    "        if len(simplex[0])==1:\n",
    "            i = simplex[0][0]\n",
    "            st.insert([i], filtration  = DTM_values[i])\n",
    "        if len(simplex[0])==2:                     #adds edges with corresponding filtration value\n",
    "            i = simplex[0][0]\n",
    "            j = simplex[0][1]\n",
    "            value = WeightedRipsFiltrationValue(p, DTM_values[i], DTM_values[j], distances[i][j])\n",
    "            st.insert([i,j], filtration  = value)\n",
    "    st.expansion(dimension_max)                    #expands the complex\n",
    "    return st\n",
    "```\n",
    "In particular, it is possible to create a simplicial complex whose 1-skeleton coincides with that of the $\\alpha$-complex."
   ]
  },
  {
   "cell_type": "code",
   "execution_count": null,
   "id": "04fdb3e8",
   "metadata": {},
   "outputs": [],
   "source": [
    "from velour import AlphaDTMFiltration\n",
    "\n",
    "st = AlphaDTMFiltration(X, m=0.1, p=1, filtration_max=4)\n",
    "dgm_alpha_dtm = st.persistence()\n",
    "plot_diagram_gudhi(dgm_alpha_dtm)"
   ]
  },
  {
   "cell_type": "markdown",
   "id": "c4f66c97",
   "metadata": {},
   "source": [
    "The most persistent generator of $H_1$ is less persistent for the DTM filtration, but the other generators in $H_1$ disappear before we capture the correct $H_0$."
   ]
  },
  {
   "cell_type": "code",
   "execution_count": null,
   "id": "330cf964",
   "metadata": {},
   "outputs": [],
   "source": [
    "fig = plot_betti_curves_gudhi(dgm_alpha_dtm)\n",
    "fig.update_yaxes(range=[-0.2, 15])\n",
    "fig.update_xaxes(range=[-0.05, 3.3])"
   ]
  },
  {
   "cell_type": "markdown",
   "id": "5f89c891",
   "metadata": {},
   "source": [
    "## 2.4 Perspectives"
   ]
  },
  {
   "cell_type": "markdown",
   "id": "a2d8329c",
   "metadata": {},
   "source": [
    "### (Non-)orientability\n",
    "Homology does not see non-orientability. In some cases, it might be useful to resort to richer descriptors, like Stieffel-Whitney classes (Tinarrage, 2020) or Steenrod-persistence (Lupo et al, 2022). The former have been implemented using data structures from GUDHI and are available in the `velour` package.\n",
    "\n",
    "\n",
    "Lupo, U., Medina-Mardones, A. M. & Tauzin, G. Persistence Steenrod modules. J Appl. and Comput. Topology (2022) doi:10.1007/s41468-022-00093-7. \\\n",
    "Tinarrage, R. Computing persistent Stiefel-Whitney classes of line bundles. (2020).\n"
   ]
  },
  {
   "cell_type": "markdown",
   "id": "9d2eddf1",
   "metadata": {},
   "source": [
    "### Weighted Rips filtration in `giotto-tda`\n",
    "If we absolutely wanted to calcualte Vietoris-Rips persistence using the DTM distance, we could use `WeightedRipsPersistence` from giotto-tda. It relies on the persistence algorithm from `giotto-ph`, which is currently state-of-the-art.\n",
    "```\n",
    "from gtda.homology import WeightedRipsPersistence\n",
    "Wrp = WeightedRipsPersistence(weights=\"DTM\", homology_dimensions=[0, 1], max_edge_weight=4)\n",
    "dgm_rips_dtm = Wrp.fit_transform([X])[0]\n",
    "\n",
    "from gtda.plotting import plot_diagram\n",
    "plot_diagram(dgm_rips_dtm)\n",
    "```\n",
    "*It is not released in its current version.*"
   ]
  }
 ],
 "metadata": {
  "kernelspec": {
   "display_name": "Python 3 (ipykernel)",
   "language": "python",
   "name": "python3"
  },
  "language_info": {
   "codemirror_mode": {
    "name": "ipython",
    "version": 3
   },
   "file_extension": ".py",
   "mimetype": "text/x-python",
   "name": "python",
   "nbconvert_exporter": "python",
   "pygments_lexer": "ipython3",
   "version": "3.8.13"
  }
 },
 "nbformat": 4,
 "nbformat_minor": 5
}
